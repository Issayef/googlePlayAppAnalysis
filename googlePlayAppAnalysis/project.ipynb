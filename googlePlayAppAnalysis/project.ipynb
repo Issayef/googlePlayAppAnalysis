{
 "cells": [
  {
   "cell_type": "code",
   "execution_count": 1,
   "metadata": {},
   "outputs": [],
   "source": [
    "import pandas as pd\n",
    "from help_funcs import *"
   ]
  },
  {
   "cell_type": "code",
   "execution_count": 2,
   "metadata": {},
   "outputs": [],
   "source": [
    "# input\n",
    "file_name = \"googleplaystore.csv\"\n",
    "data = pd.read_csv(file_name, sep=',', usecols=lambda col: col not in ['Last Updated', 'Current Ver'])"
   ]
  },
  {
   "cell_type": "code",
   "execution_count": 3,
   "metadata": {},
   "outputs": [
    {
     "name": "stdout",
     "output_type": "stream",
     "text": [
      "<class 'pandas.core.frame.DataFrame'>\n",
      "RangeIndex: 10841 entries, 0 to 10840\n",
      "Data columns (total 11 columns):\n",
      "App               10841 non-null object\n",
      "Category          10841 non-null object\n",
      "Rating            9367 non-null float64\n",
      "Reviews           10841 non-null object\n",
      "Size              10841 non-null object\n",
      "Installs          10841 non-null object\n",
      "Type              10840 non-null object\n",
      "Price             10841 non-null object\n",
      "Content Rating    10840 non-null object\n",
      "Genres            10841 non-null object\n",
      "Android Ver       10838 non-null object\n",
      "dtypes: float64(1), object(10)\n",
      "memory usage: 931.7+ KB\n"
     ]
    }
   ],
   "source": [
    "data.info()"
   ]
  },
  {
   "cell_type": "code",
   "execution_count": 4,
   "metadata": {},
   "outputs": [
    {
     "data": {
      "text/html": [
       "<div>\n",
       "<style scoped>\n",
       "    .dataframe tbody tr th:only-of-type {\n",
       "        vertical-align: middle;\n",
       "    }\n",
       "\n",
       "    .dataframe tbody tr th {\n",
       "        vertical-align: top;\n",
       "    }\n",
       "\n",
       "    .dataframe thead th {\n",
       "        text-align: right;\n",
       "    }\n",
       "</style>\n",
       "<table border=\"1\" class=\"dataframe\">\n",
       "  <thead>\n",
       "    <tr style=\"text-align: right;\">\n",
       "      <th></th>\n",
       "      <th>App</th>\n",
       "      <th>Category</th>\n",
       "      <th>Rating</th>\n",
       "      <th>Reviews</th>\n",
       "      <th>Size</th>\n",
       "      <th>Installs</th>\n",
       "      <th>Type</th>\n",
       "      <th>Price</th>\n",
       "      <th>Content Rating</th>\n",
       "      <th>Genres</th>\n",
       "      <th>Android Ver</th>\n",
       "    </tr>\n",
       "  </thead>\n",
       "  <tbody>\n",
       "    <tr>\n",
       "      <th>0</th>\n",
       "      <td>Photo Editor &amp; Candy Camera &amp; Grid &amp; ScrapBook</td>\n",
       "      <td>ART_AND_DESIGN</td>\n",
       "      <td>4.1</td>\n",
       "      <td>159</td>\n",
       "      <td>19M</td>\n",
       "      <td>10,000+</td>\n",
       "      <td>Free</td>\n",
       "      <td>0</td>\n",
       "      <td>Everyone</td>\n",
       "      <td>Art &amp; Design</td>\n",
       "      <td>4.0.3 and up</td>\n",
       "    </tr>\n",
       "    <tr>\n",
       "      <th>1</th>\n",
       "      <td>Coloring book moana</td>\n",
       "      <td>ART_AND_DESIGN</td>\n",
       "      <td>3.9</td>\n",
       "      <td>967</td>\n",
       "      <td>14M</td>\n",
       "      <td>500,000+</td>\n",
       "      <td>Free</td>\n",
       "      <td>0</td>\n",
       "      <td>Everyone</td>\n",
       "      <td>Art &amp; Design;Pretend Play</td>\n",
       "      <td>4.0.3 and up</td>\n",
       "    </tr>\n",
       "    <tr>\n",
       "      <th>2</th>\n",
       "      <td>U Launcher Lite – FREE Live Cool Themes, Hide ...</td>\n",
       "      <td>ART_AND_DESIGN</td>\n",
       "      <td>4.7</td>\n",
       "      <td>87510</td>\n",
       "      <td>8.7M</td>\n",
       "      <td>5,000,000+</td>\n",
       "      <td>Free</td>\n",
       "      <td>0</td>\n",
       "      <td>Everyone</td>\n",
       "      <td>Art &amp; Design</td>\n",
       "      <td>4.0.3 and up</td>\n",
       "    </tr>\n",
       "    <tr>\n",
       "      <th>3</th>\n",
       "      <td>Sketch - Draw &amp; Paint</td>\n",
       "      <td>ART_AND_DESIGN</td>\n",
       "      <td>4.5</td>\n",
       "      <td>215644</td>\n",
       "      <td>25M</td>\n",
       "      <td>50,000,000+</td>\n",
       "      <td>Free</td>\n",
       "      <td>0</td>\n",
       "      <td>Teen</td>\n",
       "      <td>Art &amp; Design</td>\n",
       "      <td>4.2 and up</td>\n",
       "    </tr>\n",
       "    <tr>\n",
       "      <th>4</th>\n",
       "      <td>Pixel Draw - Number Art Coloring Book</td>\n",
       "      <td>ART_AND_DESIGN</td>\n",
       "      <td>4.3</td>\n",
       "      <td>967</td>\n",
       "      <td>2.8M</td>\n",
       "      <td>100,000+</td>\n",
       "      <td>Free</td>\n",
       "      <td>0</td>\n",
       "      <td>Everyone</td>\n",
       "      <td>Art &amp; Design;Creativity</td>\n",
       "      <td>4.4 and up</td>\n",
       "    </tr>\n",
       "  </tbody>\n",
       "</table>\n",
       "</div>"
      ],
      "text/plain": [
       "                                                 App        Category  Rating  \\\n",
       "0     Photo Editor & Candy Camera & Grid & ScrapBook  ART_AND_DESIGN     4.1   \n",
       "1                                Coloring book moana  ART_AND_DESIGN     3.9   \n",
       "2  U Launcher Lite – FREE Live Cool Themes, Hide ...  ART_AND_DESIGN     4.7   \n",
       "3                              Sketch - Draw & Paint  ART_AND_DESIGN     4.5   \n",
       "4              Pixel Draw - Number Art Coloring Book  ART_AND_DESIGN     4.3   \n",
       "\n",
       "  Reviews  Size     Installs  Type Price Content Rating  \\\n",
       "0     159   19M      10,000+  Free     0       Everyone   \n",
       "1     967   14M     500,000+  Free     0       Everyone   \n",
       "2   87510  8.7M   5,000,000+  Free     0       Everyone   \n",
       "3  215644   25M  50,000,000+  Free     0           Teen   \n",
       "4     967  2.8M     100,000+  Free     0       Everyone   \n",
       "\n",
       "                      Genres   Android Ver  \n",
       "0               Art & Design  4.0.3 and up  \n",
       "1  Art & Design;Pretend Play  4.0.3 and up  \n",
       "2               Art & Design  4.0.3 and up  \n",
       "3               Art & Design    4.2 and up  \n",
       "4    Art & Design;Creativity    4.4 and up  "
      ]
     },
     "execution_count": 4,
     "metadata": {},
     "output_type": "execute_result"
    }
   ],
   "source": [
    "data.head(5)"
   ]
  },
  {
   "cell_type": "code",
   "execution_count": 5,
   "metadata": {},
   "outputs": [
    {
     "data": {
      "text/plain": [
       "App               False\n",
       "Category          False\n",
       "Rating             True\n",
       "Reviews           False\n",
       "Size              False\n",
       "Installs          False\n",
       "Type               True\n",
       "Price             False\n",
       "Content Rating     True\n",
       "Genres            False\n",
       "Android Ver        True\n",
       "dtype: bool"
      ]
     },
     "execution_count": 5,
     "metadata": {},
     "output_type": "execute_result"
    }
   ],
   "source": [
    "# to check which columns have null values.\n",
    "data.isna().any()"
   ]
  },
  {
   "cell_type": "code",
   "execution_count": 6,
   "metadata": {},
   "outputs": [
    {
     "name": "stdout",
     "output_type": "stream",
     "text": [
      "App                  0\n",
      "Category             0\n",
      "Rating            1474\n",
      "Reviews              0\n",
      "Size                 0\n",
      "Installs             0\n",
      "Type                 1\n",
      "Price                0\n",
      "Content Rating       1\n",
      "Genres               0\n",
      "Android Ver          3\n",
      "dtype: int64\n"
     ]
    }
   ],
   "source": [
    "# missed values\n",
    "print(data.isnull().sum())"
   ]
  },
  {
   "cell_type": "code",
   "execution_count": 7,
   "metadata": {},
   "outputs": [],
   "source": [
    "# remove spoiled row\n",
    "for num, it in enumerate(data['Content Rating']):\n",
    "    if pd.isnull(it):\n",
    "        data.drop(data.index[num], inplace=True)\n",
    "        data = data.reset_index(drop=True)\n",
    "for num, it in enumerate(data['Android Ver']):\n",
    "    if pd.isnull(it):\n",
    "        data.drop(data.index[num], inplace=True)\n",
    "        data = data.reset_index(drop=True)"
   ]
  },
  {
   "cell_type": "code",
   "execution_count": 8,
   "metadata": {},
   "outputs": [
    {
     "data": {
      "text/plain": [
       "0        4.1\n",
       "1        3.9\n",
       "2        4.7\n",
       "3        4.5\n",
       "4        4.3\n",
       "5        4.4\n",
       "6        3.8\n",
       "7        4.1\n",
       "8        4.4\n",
       "9        4.7\n",
       "10       4.4\n",
       "11       4.4\n",
       "12       4.2\n",
       "13       4.6\n",
       "14       4.4\n",
       "15       3.2\n",
       "16       4.7\n",
       "17       4.5\n",
       "18       4.3\n",
       "19       4.6\n",
       "20       4.0\n",
       "21       4.1\n",
       "22       4.7\n",
       "23       0.0\n",
       "24       4.7\n",
       "25       4.8\n",
       "26       4.7\n",
       "27       4.1\n",
       "28       3.9\n",
       "29       4.1\n",
       "        ... \n",
       "10808    0.0\n",
       "10809    4.1\n",
       "10810    0.0\n",
       "10811    4.0\n",
       "10812    4.2\n",
       "10813    0.0\n",
       "10814    4.0\n",
       "10815    0.0\n",
       "10816    3.3\n",
       "10817    5.0\n",
       "10818    0.0\n",
       "10819    0.0\n",
       "10820    0.0\n",
       "10821    0.0\n",
       "10822    0.0\n",
       "10823    4.0\n",
       "10824    4.2\n",
       "10825    3.4\n",
       "10826    4.6\n",
       "10827    3.8\n",
       "10828    0.0\n",
       "10829    3.8\n",
       "10830    4.8\n",
       "10831    4.0\n",
       "10832    0.0\n",
       "10833    4.5\n",
       "10834    5.0\n",
       "10835    0.0\n",
       "10836    4.5\n",
       "10837    4.5\n",
       "Name: Rating, Length: 10838, dtype: float64"
      ]
     },
     "execution_count": 8,
     "metadata": {},
     "output_type": "execute_result"
    }
   ],
   "source": [
    "# replace missed values with 0\n",
    "data['Rating'].fillna(0, inplace=True)\n",
    "data['Rating']"
   ]
  },
  {
   "cell_type": "code",
   "execution_count": 9,
   "metadata": {},
   "outputs": [],
   "source": [
    "strings = data['Price']\n",
    "numeric = pd.to_numeric(strings.str.replace('$',''))\n",
    "data['Price']= numeric"
   ]
  },
  {
   "cell_type": "code",
   "execution_count": 10,
   "metadata": {},
   "outputs": [],
   "source": [
    "#convert Reviews to numeric\n",
    "numeric = pd.to_numeric(data['Reviews'])\n",
    "data['Reviews']= numeric"
   ]
  },
  {
   "cell_type": "code",
   "execution_count": 11,
   "metadata": {},
   "outputs": [],
   "source": [
    "#convert Installs to numeric\n",
    "str_installs_def = data['Installs']\n",
    "str_installs = str_installs_def.str.replace(',','')\n",
    "str_installs = str_installs.str.replace('+','')\n",
    "data['Installs'] = pd.to_numeric(str_installs)"
   ]
  },
  {
   "cell_type": "code",
   "execution_count": 12,
   "metadata": {},
   "outputs": [
    {
     "data": {
      "text/html": [
       "<div>\n",
       "<style scoped>\n",
       "    .dataframe tbody tr th:only-of-type {\n",
       "        vertical-align: middle;\n",
       "    }\n",
       "\n",
       "    .dataframe tbody tr th {\n",
       "        vertical-align: top;\n",
       "    }\n",
       "\n",
       "    .dataframe thead th {\n",
       "        text-align: right;\n",
       "    }\n",
       "</style>\n",
       "<table border=\"1\" class=\"dataframe\">\n",
       "  <thead>\n",
       "    <tr style=\"text-align: right;\">\n",
       "      <th></th>\n",
       "      <th>Rating</th>\n",
       "      <th>Reviews</th>\n",
       "      <th>Installs</th>\n",
       "      <th>Price</th>\n",
       "    </tr>\n",
       "  </thead>\n",
       "  <tbody>\n",
       "    <tr>\n",
       "      <th>Rating</th>\n",
       "      <td>1.000000</td>\n",
       "      <td>0.078622</td>\n",
       "      <td>0.084653</td>\n",
       "      <td>-0.016348</td>\n",
       "    </tr>\n",
       "    <tr>\n",
       "      <th>Reviews</th>\n",
       "      <td>0.078622</td>\n",
       "      <td>1.000000</td>\n",
       "      <td>0.643120</td>\n",
       "      <td>-0.009667</td>\n",
       "    </tr>\n",
       "    <tr>\n",
       "      <th>Installs</th>\n",
       "      <td>0.084653</td>\n",
       "      <td>0.643120</td>\n",
       "      <td>1.000000</td>\n",
       "      <td>-0.011689</td>\n",
       "    </tr>\n",
       "    <tr>\n",
       "      <th>Price</th>\n",
       "      <td>-0.016348</td>\n",
       "      <td>-0.009667</td>\n",
       "      <td>-0.011689</td>\n",
       "      <td>1.000000</td>\n",
       "    </tr>\n",
       "  </tbody>\n",
       "</table>\n",
       "</div>"
      ],
      "text/plain": [
       "            Rating   Reviews  Installs     Price\n",
       "Rating    1.000000  0.078622  0.084653 -0.016348\n",
       "Reviews   0.078622  1.000000  0.643120 -0.009667\n",
       "Installs  0.084653  0.643120  1.000000 -0.011689\n",
       "Price    -0.016348 -0.009667 -0.011689  1.000000"
      ]
     },
     "execution_count": 12,
     "metadata": {},
     "output_type": "execute_result"
    }
   ],
   "source": [
    "data.corr()"
   ]
  },
  {
   "cell_type": "code",
   "execution_count": 13,
   "metadata": {},
   "outputs": [
    {
     "data": {
      "image/png": "[encoded data removed]",
      "text/plain": [
       "<Figure size 432x288 with 1 Axes>"
      ]
     },
     "metadata": {},
     "output_type": "display_data"
    }
   ],
   "source": [
    "# cats & genres correlation\n",
    "col_categ = data['Category'].str.replace('_',' ')\n",
    "col_categ = col_categ.str.lower()\n",
    "\n",
    "col_genres = data['Genres'].str.lower()\n",
    "col_genres = col_genres.str.replace('&', 'and')\n",
    "\n",
    "equal_values = (col_categ == col_genres).sum()\n",
    "matches = pd.Series([equal_values, len(col_categ) - equal_values])\n",
    "\n",
    "plt.title('Category & Genres matches')\n",
    "plt.pie(matches, labels = ['Equals','Not Equals'], \n",
    "        wedgeprops=dict(alpha=0.5),\n",
    "        autopct=lambda prcnt : abs_val(prcnt, matches))\n",
    "plt.show()"
   ]
  },
  {
   "cell_type": "code",
   "execution_count": 14,
   "metadata": {},
   "outputs": [
    {
     "name": "stdout",
     "output_type": "stream",
     "text": [
      "Type is Free: 10039\n",
      "Price is zero: 10040\n"
     ]
    }
   ],
   "source": [
    "# type and price correlation\n",
    "num_of_free = data['Type'].value_counts().Free\n",
    "num_of_zeroes = data['Price'][data.Price == 0.0].value_counts().values[0]\n",
    "print('Type is Free: {0}\\nPrice is zero: {1}'.format(num_of_free, num_of_zeroes))"
   ]
  },
  {
   "cell_type": "code",
   "execution_count": 15,
   "metadata": {},
   "outputs": [
    {
     "data": {
      "image/png": "[encoded data removed]",
      "text/plain": [
       "<Figure size 432x288 with 1 Axes>"
      ]
     },
     "metadata": {
      "needs_background": "light"
     },
     "output_type": "display_data"
    }
   ],
   "source": [
    "# most installed\n",
    "df = pd.concat([data['Category'], data['Installs']], axis = 1)\n",
    "most_installed_categories = df.groupby(['Category']).mean().sort_values(by=['Installs'], ascending=False).astype(int)\n",
    "\n",
    "bar_chart(most_installed_categories[:5].Installs, 'Most installed categories')"
   ]
  },
  {
   "cell_type": "code",
   "execution_count": 16,
   "metadata": {},
   "outputs": [
    {
     "data": {
      "image/png": "[encoded data removed]",
      "text/plain": [
       "<Figure size 432x288 with 1 Axes>"
      ]
     },
     "metadata": {
      "needs_background": "light"
     },
     "output_type": "display_data"
    }
   ],
   "source": [
    "# most rated\n",
    "df = pd.concat([data['Category'], data['Rating']], axis = 1)\n",
    "most_rated_categories = df.groupby(['Category']).mean().sort_values(by=['Rating'], ascending=False).round(2)\n",
    "\n",
    "bar_chart(most_rated_categories[:5].Rating, 'Most rated categories')"
   ]
  },
  {
   "cell_type": "code",
   "execution_count": 17,
   "metadata": {},
   "outputs": [
    {
     "data": {
      "image/png": "[encoded data removed]",
      "text/plain": [
       "<Figure size 432x288 with 1 Axes>"
      ]
     },
     "metadata": {
      "needs_background": "light"
     },
     "output_type": "display_data"
    }
   ],
   "source": [
    "# # price\n",
    "df_non_free = data[data.Price != 0].sort_values(by='Price')\n",
    "\n",
    "plt.plot(df_non_free['Price'], df_non_free['Installs'], 'bo', markersize=5)\n",
    "plt.xlabel('Price')\n",
    "plt.ylabel('Installs')\n",
    "plt.title('Installs on price dependency')\n",
    "plt.axis([-10, 410, -1000, 110000])\n",
    "plt.grid(True)\n",
    "plt.gca().yaxis.set_major_formatter(FormatStrFormatter('%.0f'))\n",
    "plt.show()"
   ]
  },
  {
   "cell_type": "code",
   "execution_count": 18,
   "metadata": {},
   "outputs": [
    {
     "name": "stdout",
     "output_type": "stream",
     "text": [
      "4362                  💎 I'm rich\n",
      "4367    I'm Rich - Trump Edition\n",
      "5349                   I am rich\n",
      "5352              I am Rich Plus\n",
      "5354           I Am Rich Premium\n",
      "5364                   I Am Rich\n",
      "Name: App, dtype: object\n"
     ]
    }
   ],
   "source": [
    "# most expensive and most installed\n",
    "print(data[(data.Price > 380) & (data.Installs >= 10000)].App)"
   ]
  },
  {
   "cell_type": "code",
   "execution_count": 19,
   "metadata": {},
   "outputs": [
    {
     "data": {
      "image/png": "[encoded data removed]",
      "text/plain": [
       "<Figure size 432x288 with 1 Axes>"
      ]
     },
     "metadata": {
      "needs_background": "light"
     },
     "output_type": "display_data"
    }
   ],
   "source": [
    "# genres analysis\n",
    "df_games = data[data.Category == 'GAME']\n",
    "df_games = df_games[['Genres','Installs']]\n",
    "most_installed_genres = df_games.groupby('Genres').mean().sort_values('Installs', ascending=False).round()\n",
    "\n",
    "bar_chart(most_installed_genres[:5].Installs, 'Most installed genres', rot = 10)"
   ]
  },
  {
   "cell_type": "code",
   "execution_count": 20,
   "metadata": {},
   "outputs": [
    {
     "data": {
      "image/png": "[encoded data removed]",
      "text/plain": [
       "<Figure size 432x288 with 1 Axes>"
      ]
     },
     "metadata": {
      "needs_background": "light"
     },
     "output_type": "display_data"
    },
    {
     "data": {
      "image/png": "[encoded data removed]",
      "text/plain": [
       "<Figure size 432x288 with 1 Axes>"
      ]
     },
     "metadata": {
      "needs_background": "light"
     },
     "output_type": "display_data"
    }
   ],
   "source": [
    "# app size analysis\n",
    "# disable chained assignment warning\n",
    "pd.options.mode.chained_assignment = None\n",
    "\n",
    "df_sizes = data[['Size','Installs']]\n",
    "\n",
    "df_sizes['Size'] = df_sizes['Size'].str.replace('M','mb')\n",
    "df_sizes['Size'] = df_sizes['Size'].str.replace('k','kb')\n",
    "\n",
    "df_sizes = df_sizes.groupby(by='Size').mean().sort_values('Installs', ascending = False).round()\n",
    "\n",
    "# top 5\n",
    "bar_chart(df_sizes[:5].Installs, 'Most installed by size')\n",
    "\n",
    "# least 5\n",
    "bar_chart(df_sizes[-10:].Installs, 'Least installed by size')"
   ]
  },
  {
   "cell_type": "code",
   "execution_count": 21,
   "metadata": {},
   "outputs": [
    {
     "name": "stdout",
     "output_type": "stream",
     "text": [
      "Content Rating\n",
      "Adults only 18+         2000000\n",
      "Everyone           114156658621\n",
      "Everyone 10+        13233881795\n",
      "Mature 17+           5524486178\n",
      "Teen                34716350393\n",
      "Unrated                   50500\n",
      "Name: Installs, dtype: int64\n"
     ]
    },
    {
     "data": {
      "image/png": "[encoded data removed]",
      "text/plain": [
       "<Figure size 432x288 with 1 Axes>"
      ]
     },
     "metadata": {},
     "output_type": "display_data"
    }
   ],
   "source": [
    "#Installs on Content Rating dependency\n",
    "Purchase_Age=data.groupby(['Content Rating'])['Installs'].sum()\n",
    "print(Purchase_Age)\n",
    "Purchase_Age.plot(kind='pie')\n",
    "plt.axis('equal')\n",
    "plt.show()"
   ]
  },
  {
   "cell_type": "code",
   "execution_count": 22,
   "metadata": {},
   "outputs": [
    {
     "name": "stdout",
     "output_type": "stream",
     "text": [
      "Content Rating\n",
      "Adults only 18+         2000000\n",
      "Everyone           114156658621\n",
      "Everyone 10+        13233881795\n",
      "Mature 17+           5524486178\n",
      "Teen                34716350393\n",
      "Unrated                   50500\n",
      "Name: Installs, dtype: int64\n"
     ]
    },
    {
     "data": {
      "image/png": "[encoded data removed]",
      "text/plain": [
       "<Figure size 504x360 with 1 Axes>"
      ]
     },
     "metadata": {
      "needs_background": "light"
     },
     "output_type": "display_data"
    }
   ],
   "source": [
    "SumContentInstalls=data.groupby(['Content Rating'])['Installs'].sum()\n",
    "print(SumContentInstalls)\n",
    "f,ax = plt.subplots(figsize=(7,5))\n",
    "plt.xlabel('Content Rating')\n",
    "plt.ylabel('Installs')\n",
    "plt.title('Installs on Content Rating dependency')\n",
    "plt.grid(True)\n",
    "plt.gca().yaxis.set_major_formatter(FormatStrFormatter('%.0f'))\n",
    "plt.plot(data.groupby(['Content Rating'])['Installs'].sum(), 'o', color='black');"
   ]
  },
  {
   "cell_type": "code",
   "execution_count": 23,
   "metadata": {},
   "outputs": [
    {
     "data": {
      "text/plain": [
       "4.1 and up            2450\n",
       "4.0.3 and up          1501\n",
       "4.0 and up            1375\n",
       "Varies with device    1362\n",
       "4.4 and up             980\n",
       "2.3 and up             652\n",
       "5.0 and up             601\n",
       "4.2 and up             394\n",
       "2.3.3 and up           281\n",
       "2.2 and up             244\n",
       "4.3 and up             243\n",
       "3.0 and up             241\n",
       "2.1 and up             134\n",
       "1.6 and up             116\n",
       "6.0 and up              60\n",
       "7.0 and up              42\n",
       "3.2 and up              36\n",
       "2.0 and up              32\n",
       "5.1 and up              24\n",
       "1.5 and up              20\n",
       "4.4W and up             12\n",
       "3.1 and up              10\n",
       "2.0.1 and up             7\n",
       "8.0 and up               6\n",
       "7.1 and up               3\n",
       "4.0.3 - 7.1.1            2\n",
       "5.0 - 8.0                2\n",
       "1.0 and up               2\n",
       "5.0 - 7.1.1              1\n",
       "5.0 - 6.0                1\n",
       "2.2 - 7.1.1              1\n",
       "4.1 - 7.1.1              1\n",
       "7.0 - 7.1.1              1\n",
       "Name: Android Ver, dtype: int64"
      ]
     },
     "execution_count": 23,
     "metadata": {},
     "output_type": "execute_result"
    }
   ],
   "source": [
    "#number of applications depends on android ver \n",
    "data['Android Ver'].value_counts()"
   ]
  },
  {
   "cell_type": "code",
   "execution_count": 24,
   "metadata": {},
   "outputs": [
    {
     "name": "stdout",
     "output_type": "stream",
     "text": [
      "Android Ver\n",
      "1.0 and up                  60000\n",
      "1.5 and up               23841710\n",
      "1.6 and up               46413652\n",
      "2.0 and up               35512910\n",
      "2.0.1 and up            101070060\n",
      "2.1 and up              315531257\n",
      "2.2 - 7.1.1                   100\n",
      "2.2 and up               97092235\n",
      "2.3 and up             2751627409\n",
      "2.3.3 and up            885302515\n",
      "3.0 and up              571815241\n",
      "3.1 and up               51037005\n",
      "3.2 and up                8305725\n",
      "4.0 and up            13525890206\n",
      "4.0.3 - 7.1.1            15000000\n",
      "4.0.3 and up           7525768043\n",
      "4.1 - 7.1.1             100000000\n",
      "4.1 and up            30722426989\n",
      "4.2 and up             1996412654\n",
      "4.3 and up             1019205721\n",
      "4.4 and up            11919907598\n",
      "4.4W and up                 37270\n",
      "5.0 - 6.0                   10000\n",
      "5.0 - 7.1.1                     5\n",
      "5.0 - 8.0                20000000\n",
      "5.0 and up             2254682543\n",
      "5.1 and up                8421760\n",
      "6.0 and up               72746391\n",
      "7.0 - 7.1.1               1000000\n",
      "7.0 and up              223509600\n",
      "7.1 and up              101050000\n",
      "8.0 and up                1510106\n",
      "Varies with device    93238228782\n",
      "Name: Installs, dtype: int64\n"
     ]
    },
    {
     "data": {
      "text/plain": [
       "<matplotlib.axes._subplots.AxesSubplot at 0x1f2c35d9470>"
      ]
     },
     "execution_count": 24,
     "metadata": {},
     "output_type": "execute_result"
    },
    {
     "data": {
      "image/png": "[encoded data removed]",
      "text/plain": [
       "<Figure size 720x360 with 1 Axes>"
      ]
     },
     "metadata": {
      "needs_background": "light"
     },
     "output_type": "display_data"
    }
   ],
   "source": [
    "#Installs on Android version dependency\n",
    "SumVerInstalls=data.groupby(['Android Ver'])['Installs'].sum()\n",
    "print(SumVerInstalls)\n",
    "f,ax = plt.subplots(figsize=(10,5))\n",
    "plt.gca().yaxis.set_major_formatter(FormatStrFormatter('%.0f'))\n",
    "SumVerInstalls.plot(kind='bar', grid=True,title='Installs on Android version dependency')"
   ]
  },
  {
   "cell_type": "code",
   "execution_count": 25,
   "metadata": {},
   "outputs": [
    {
     "name": "stdout",
     "output_type": "stream",
     "text": [
      "Rating\n",
      "0.0        5975549\n",
      "1.0           5170\n",
      "1.2           1000\n",
      "1.4           7000\n",
      "1.5           1105\n",
      "1.6         152000\n",
      "1.7          81700\n",
      "1.8         519500\n",
      "1.9         389000\n",
      "2.0        5040150\n",
      "2.1         182000\n",
      "2.2        2130600\n",
      "2.3         264100\n",
      "2.4        1284100\n",
      "2.5        2578100\n",
      "2.6         542600\n",
      "2.7        3859800\n",
      "2.8        3509150\n",
      "2.9        7191100\n",
      "3.0       34433880\n",
      "3.1      106558500\n",
      "3.2       28674400\n",
      "3.3       94951800\n",
      "3.4      109414950\n",
      "3.5      238230060\n",
      "3.6      247917750\n",
      "3.7     1722050460\n",
      "3.8      634472500\n",
      "3.9     6117060300\n",
      "4.0    10660541410\n",
      "4.1     8505208600\n",
      "4.2    17170199160\n",
      "4.3    37714376810\n",
      "4.4    33519750700\n",
      "4.5    33742008960\n",
      "4.6    12471569800\n",
      "4.7     3995370110\n",
      "4.8      442950990\n",
      "4.9       43882600\n",
      "5.0          90023\n",
      "Name: Installs, dtype: int64\n"
     ]
    },
    {
     "data": {
      "image/png": "[encoded data removed]",
      "text/plain": [
       "<Figure size 504x360 with 1 Axes>"
      ]
     },
     "metadata": {
      "needs_background": "light"
     },
     "output_type": "display_data"
    }
   ],
   "source": [
    "#Installs on Rating dependency\n",
    "SumRaitInstalls=data.groupby(['Rating'])['Installs'].sum()\n",
    "print(SumRaitInstalls)\n",
    "f,ax = plt.subplots(figsize=(7,5))\n",
    "plt.xlabel('Rating')\n",
    "plt.ylabel('Installs')\n",
    "plt.title('Installs on Rating dependency')\n",
    "plt.grid(True)\n",
    "plt.gca().yaxis.set_major_formatter(FormatStrFormatter('%.0f'))\n",
    "plt.plot(data.groupby(['Rating'])['Installs'].sum(), 'o', color='black');"
   ]
  },
  {
   "cell_type": "code",
   "execution_count": 26,
   "metadata": {},
   "outputs": [
    {
     "name": "stdout",
     "output_type": "stream",
     "text": [
      "1660                                         Clash Royale\n",
      "1670                                       Clash of Clans\n",
      "1704                                       Clash of Clans\n",
      "1721                                         Clash Royale\n",
      "1878                                         Clash Royale\n",
      "1879                                       Clash of Clans\n",
      "1932                                       Shadow Fight 2\n",
      "3986                                       Clash of Clans\n",
      "3987                                         Clash Royale\n",
      "4005              Clean Master- Space Cleaner & Antivirus\n",
      "4566      360 Security - Free Antivirus, Booster, Cleaner\n",
      "7534    Security Master - Antivirus, VPN, AppLock, Boo...\n",
      "7935                                       Shadow Fight 2\n",
      "Name: App, dtype: object\n"
     ]
    }
   ],
   "source": [
    "#most rated apps\n",
    "print(data[(data.Rating > 4.5) & (data.Reviews >= 10000000)].App)"
   ]
  }
 ],
 "metadata": {
  "kernelspec": {
   "display_name": "Python 3",
   "language": "python",
   "name": "python3"
  },
  "language_info": {
   "codemirror_mode": {
    "name": "ipython",
    "version": 3
   },
   "file_extension": ".py",
   "mimetype": "text/x-python",
   "name": "python",
   "nbconvert_exporter": "python",
   "pygments_lexer": "ipython3",
   "version": "3.7.2"
  }
 },
 "nbformat": 4,
 "nbformat_minor": 2
}
